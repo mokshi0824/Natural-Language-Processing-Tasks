{
  "nbformat": 4,
  "nbformat_minor": 0,
  "metadata": {
    "colab": {
      "provenance": [],
      "authorship_tag": "ABX9TyNC+XT/dotxuWrxVbk7ZUpk",
      "include_colab_link": true
    },
    "kernelspec": {
      "name": "python3",
      "display_name": "Python 3"
    },
    "language_info": {
      "name": "python"
    }
  },
  "cells": [
    {
      "cell_type": "markdown",
      "metadata": {
        "id": "view-in-github",
        "colab_type": "text"
      },
      "source": [
        "<a href=\"https://colab.research.google.com/github/mokshi0824/Natural-Language-Processing-Tasks/blob/main/Task_8.ipynb\" target=\"_parent\"><img src=\"https://colab.research.google.com/assets/colab-badge.svg\" alt=\"Open In Colab\"/></a>"
      ]
    },
    {
      "cell_type": "code",
      "execution_count": null,
      "metadata": {
        "colab": {
          "base_uri": "https://localhost:8080/"
        },
        "id": "v9u7BKEB4oP1",
        "outputId": "11f47ed9-a7aa-4270-e053-ef580d4e7264"
      },
      "outputs": [
        {
          "output_type": "stream",
          "name": "stderr",
          "text": [
            "[nltk_data] Downloading package treebank to /root/nltk_data...\n",
            "[nltk_data]   Unzipping corpora/treebank.zip.\n",
            "[nltk_data] Downloading package universal_tagset to /root/nltk_data...\n",
            "[nltk_data]   Unzipping taggers/universal_tagset.zip.\n",
            "/tmp/ipython-input-1933410660.py:24: DeprecationWarning: \n",
            "  Function evaluate() has been deprecated.  Use accuracy(gold)\n",
            "  instead.\n",
            "  hmm_accuracy = hmm_tagger.evaluate(test_data)\n",
            "/usr/local/lib/python3.12/dist-packages/nltk/tag/hmm.py:335: RuntimeWarning: overflow encountered in cast\n",
            "  O[i, k] = self._output_logprob(si, self._symbols[k])\n",
            "/usr/local/lib/python3.12/dist-packages/nltk/tag/hmm.py:363: RuntimeWarning: overflow encountered in cast\n",
            "  O[i, k] = self._output_logprob(si, self._symbols[k])\n"
          ]
        },
        {
          "output_type": "stream",
          "name": "stdout",
          "text": [
            "HMM (Viterbi) Accuracy: 0.45041462176341174\n",
            "Log-Linear Model Accuracy: 0.9588339820612625\n",
            "\n",
            "Performance Comparison\n",
            "HMM (Viterbi): 0.4504\n",
            "Log-Linear Model: 0.9588\n",
            "\n",
            "Thus the above program is executed successfully\n"
          ]
        }
      ],
      "source": [
        "import nltk\n",
        "from nltk.corpus import treebank\n",
        "# from nltk.sklearn.linear_model import LogisticRegression # This module does not exist\n",
        "from sklearn.metrics import accuracy_score\n",
        "import random\n",
        "\n",
        "# download required data\n",
        "nltk.download('treebank')\n",
        "nltk.download('universal_tagset')\n",
        "\n",
        "# load data\n",
        "sentences = list(treebank.tagged_sents(tagset='universal'))\n",
        "random.shuffle(sentences)\n",
        "\n",
        "train_data = sentences[:3000]\n",
        "test_data = sentences[3000:]\n",
        "\n",
        "# ==== HMM with Viterbi Decoding ====\n",
        "from nltk.tag import hmm\n",
        "\n",
        "trainer = hmm.HiddenMarkovModelTrainer()\n",
        "hmm_tagger = trainer.train_supervised(train_data)\n",
        "\n",
        "hmm_accuracy = hmm_tagger.evaluate(test_data)\n",
        "print(\"HMM (Viterbi) Accuracy:\", hmm_accuracy)\n",
        "\n",
        "# ==== Feature Extraction ====\n",
        "def extract_features(sentence, i):\n",
        "    word = sentence[i]\n",
        "    features = {\n",
        "        'word': word,\n",
        "        'is_capitalized': word[0].isupper(),\n",
        "        'is_digit': word.isdigit(),\n",
        "        'prefix-1': word[0],\n",
        "        'suffix-1': word[-1],\n",
        "        'suffix-2': word[-2:]\n",
        "    }\n",
        "    if i > 0:\n",
        "        features['prev_word'] = sentence[i-1]\n",
        "    else:\n",
        "        features['prev_word'] = '<START>'\n",
        "    return features\n",
        "\n",
        "# ==== Prepare train and test sets ====\n",
        "def prepare_dataset(tagged_sents):\n",
        "    X, y = [], []\n",
        "    for sent in tagged_sents:\n",
        "        words, tags = zip(*sent)\n",
        "        for i in range(len(words)):\n",
        "            feats = extract_features(words, i)\n",
        "            X.append(feats)\n",
        "            y.append(tags[i])\n",
        "    return X, y\n",
        "\n",
        "X_train, y_train = prepare_dataset(train_data)\n",
        "X_test, y_test = prepare_dataset(test_data)\n",
        "\n",
        "# ==== Convert features to dict vector ====\n",
        "from sklearn.feature_extraction import DictVectorizer\n",
        "vec = DictVectorizer(sparse=True)\n",
        "\n",
        "X_train_vec = vec.fit_transform(X_train)\n",
        "X_test_vec = vec.transform(X_test)\n",
        "\n",
        "# ==== Train log-linear model ====\n",
        "from sklearn.linear_model import LogisticRegression\n",
        "clf = LogisticRegression(max_iter=200)\n",
        "clf.fit(X_train_vec, y_train)\n",
        "\n",
        "y_pred = clf.predict(X_test_vec)\n",
        "log_linear_accuracy = accuracy_score(y_test, y_pred)\n",
        "print(\"Log-Linear Model Accuracy:\", log_linear_accuracy)\n",
        "\n",
        "# ==== Comparison ====\n",
        "print(\"\\nPerformance Comparison\")\n",
        "print(f\"HMM (Viterbi): {hmm_accuracy:.4f}\")\n",
        "print(f\"Log-Linear Model: {log_linear_accuracy:.4f}\")\n",
        "\n",
        "# ==== Result ====\n",
        "print(\"\\nThus the above program is executed successfully\")"
      ]
    },
    {
      "cell_type": "code",
      "source": [],
      "metadata": {
        "id": "ensVhDLf4rbM"
      },
      "execution_count": null,
      "outputs": []
    }
  ]
}