{
  "nbformat": 4,
  "nbformat_minor": 0,
  "metadata": {
    "colab": {
      "provenance": [],
      "authorship_tag": "ABX9TyP05eRK4jUzUkTDz4CtcXKp",
      "include_colab_link": true
    },
    "kernelspec": {
      "name": "python3",
      "display_name": "Python 3"
    },
    "language_info": {
      "name": "python"
    }
  },
  "cells": [
    {
      "cell_type": "markdown",
      "metadata": {
        "id": "view-in-github",
        "colab_type": "text"
      },
      "source": [
        "<a href=\"https://colab.research.google.com/github/mokshi0824/Natural-Language-Processing-Tasks/blob/main/Task_1.ipynb\" target=\"_parent\"><img src=\"https://colab.research.google.com/assets/colab-badge.svg\" alt=\"Open In Colab\"/></a>"
      ]
    },
    {
      "cell_type": "code",
      "execution_count": null,
      "metadata": {
        "id": "YU1IoM1LIvQZ"
      },
      "outputs": [],
      "source": [
        "import re\n"
      ]
    },
    {
      "cell_type": "code",
      "source": [
        "pattern1 = re.compile(r'abc')\n",
        "result1 = pattern1.match('abcdef')\n",
        "if result1:\n",
        "    print(\"Match found:\", result1.group())"
      ],
      "metadata": {
        "colab": {
          "base_uri": "https://localhost:8080/"
        },
        "id": "kzSIOPlBJTFW",
        "outputId": "6086ad19-f7eb-45aa-e0dc-6725daa48774"
      },
      "execution_count": null,
      "outputs": [
        {
          "output_type": "stream",
          "name": "stdout",
          "text": [
            "Match found: abc\n"
          ]
        }
      ]
    },
    {
      "cell_type": "code",
      "source": [
        "pattern2 = re.compile(r'.')\n",
        "result2 = pattern2.search('Hello')\n",
        "if result2:\n",
        "  print(\"character found:\", result2.group())"
      ],
      "metadata": {
        "colab": {
          "base_uri": "https://localhost:8080/"
        },
        "id": "AAxtdag3Juwv",
        "outputId": "77f0acd5-5471-4c48-8b01-4a251cdc22d3"
      },
      "execution_count": null,
      "outputs": [
        {
          "output_type": "stream",
          "name": "stdout",
          "text": [
            "character found: H\n"
          ]
        }
      ]
    },
    {
      "cell_type": "code",
      "source": [
        "pattern3 = re.compile(r'[aeiou]')\n",
        "result3 = pattern3.search('Hello')\n",
        "if result3:\n",
        "  print(\"vowel found:\", result3.group())"
      ],
      "metadata": {
        "colab": {
          "base_uri": "https://localhost:8080/"
        },
        "id": "-Zlm5Gs9KJVX",
        "outputId": "22eca8b5-2cb0-43f9-ebdf-0988829cb98a"
      },
      "execution_count": null,
      "outputs": [
        {
          "output_type": "stream",
          "name": "stdout",
          "text": [
            "vowel found: e\n"
          ]
        }
      ]
    },
    {
      "cell_type": "code",
      "source": [
        "pattern = re.compile(r'\\b\\w')\n",
        "first_chars = pattern.findall( \"iam mokshitha\")\n",
        "print(\"First characters of each word:\", first_chars)\n",
        "\n"
      ],
      "metadata": {
        "colab": {
          "base_uri": "https://localhost:8080/"
        },
        "id": "Nxy7PmE6MbMW",
        "outputId": "86523e3f-73b1-45be-e3f2-6c89b71003a3"
      },
      "execution_count": null,
      "outputs": [
        {
          "output_type": "stream",
          "name": "stdout",
          "text": [
            "First characters of each word: ['i', 'm']\n"
          ]
        }
      ]
    },
    {
      "cell_type": "code",
      "source": [
        "pattern4 = re.compile(r'\\d{3}-\\d{2}-\\d{4}')\n",
        "result4 = pattern4.match('123-42-6789')\n",
        "if result4:\n",
        "  print(\"Social Security Number:\", result4.group())\n"
      ],
      "metadata": {
        "colab": {
          "base_uri": "https://localhost:8080/"
        },
        "id": "o13jb_bbMbs8",
        "outputId": "a1ce17bc-b56b-40a7-83d3-d97addb14ef0"
      },
      "execution_count": null,
      "outputs": [
        {
          "output_type": "stream",
          "name": "stdout",
          "text": [
            "Social Security Number: 123-42-6789\n"
          ]
        }
      ]
    },
    {
      "cell_type": "code",
      "source": [
        "pattern5 = re.compile(r'\\.')\n",
        "result5 = pattern5.search('www.example.com')\n",
        "if result5:\n",
        "  print(\"Dot found:\", result5.group())\n"
      ],
      "metadata": {
        "colab": {
          "base_uri": "https://localhost:8080/"
        },
        "id": "IavaxzLXNLLV",
        "outputId": "ca912d0b-1dd2-485a-d3be-e8f87174bd22"
      },
      "execution_count": null,
      "outputs": [
        {
          "output_type": "stream",
          "name": "stdout",
          "text": [
            "Dot found: .\n"
          ]
        }
      ]
    },
    {
      "cell_type": "code",
      "source": [
        "pattern6 = re.compile(r'(\\d{2})/(\\d{2})/(\\d{4})')\n",
        "result6 = pattern6.match('01/09/2024')\n",
        "if result6:\n",
        "  print(\"Day:\", result6.group(1))\n",
        "  print(\"Month:\", result6.group(2))\n",
        "  print(\"Year:\", result6.group(3))\n"
      ],
      "metadata": {
        "colab": {
          "base_uri": "https://localhost:8080/"
        },
        "id": "81LOk22dNxu1",
        "outputId": "6b67bf12-6e54-4b9d-c5af-b56e008cd711"
      },
      "execution_count": null,
      "outputs": [
        {
          "output_type": "stream",
          "name": "stdout",
          "text": [
            "Day: 01\n",
            "Month: 09\n",
            "Year: 2024\n"
          ]
        }
      ]
    },
    {
      "cell_type": "code",
      "source": [
        "pattern7 = re.compile(r'cat|dog')\n",
        "result7 = pattern7.search('I have a cat and a dog')\n",
        "if result7:\n",
        "  print(\"Animal found:\", result7.group())"
      ],
      "metadata": {
        "colab": {
          "base_uri": "https://localhost:8080/"
        },
        "id": "ScHeUWP4O86F",
        "outputId": "ebb7fd36-4fbc-412d-a4a3-6b95d3444dfb"
      },
      "execution_count": null,
      "outputs": [
        {
          "output_type": "stream",
          "name": "stdout",
          "text": [
            "Animal found: cat\n"
          ]
        }
      ]
    },
    {
      "cell_type": "code",
      "source": [],
      "metadata": {
        "id": "WqofmozGPF0t"
      },
      "execution_count": null,
      "outputs": []
    }
  ]
}